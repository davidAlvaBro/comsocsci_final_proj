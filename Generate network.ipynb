{
 "cells": [
  {
   "cell_type": "code",
   "execution_count": 1,
   "metadata": {
    "collapsed": true
   },
   "outputs": [],
   "source": [
    "import networkx as nx\n",
    "from tqdm import tqdm\n",
    "import random\n",
    "import matplotlib.pyplot as plt\n",
    "import matplotlib.colors as mcolors\n",
    "import numpy as np\n",
    "import pandas as pd\n",
    "\n",
    "DATA_PATH = \"data/\""
   ]
  },
  {
   "cell_type": "markdown",
   "metadata": {
    "collapsed": false
   },
   "source": [
    "# Create network\n",
    "- Load dataframe with shelves\n",
    "- Implode dataframe to make shelves into edgelist\n",
    "- Calculate assortativity\n",
    "    - Genre\n",
    "    - Degrees\n",
    "- Get largest sub network\n",
    "- Create communities\n",
    "    - Color according to genre"
   ]
  },
  {
   "cell_type": "code",
   "execution_count": null,
   "metadata": {},
   "outputs": [],
   "source": [
    "# Create the network\n",
    "def create_network(threshhold=0.2): \n",
    "    \"\"\"\n",
    "    Creates the network from the shelf edges. \n",
    "    If the edges have already been created, they are loaded. \n",
    "    Otherwise, they are created and stored. The edges are filtered by the threshhold. The network is returned.\n",
    "    \n",
    "    Args: \n",
    "        threshhold (int): The minimum number of times an edge must appear to be included in the network.\n",
    "    \n",
    "    Returns:\n",
    "        G (networkx.Graph): The network of book edges.\n",
    "    \"\"\"\n",
    "    # If the edges have already been created, load them\n",
    "    try: \n",
    "        # Load the shelf edges\n",
    "        edges = np.load(DATA_PATH + 'shelf_edges.npy', allow_pickle=True).item() # (takes about 10 minutes)\n",
    "    except: \n",
    "        # Create the shelf edges and store them (this takes about 12 hours)\n",
    "        shelves_df = pd.read_csv(DATA_PATH + 'shelves_df.csv')\n",
    "        # Collapse into shelves\n",
    "        imploded_df = shelves_df.groupby('user_id')['book_id'].apply(list).reset_index()\n",
    "\n",
    "        # Count occurrences of each book\n",
    "        book_counts = {}\n",
    "        for i, shelf in tqdm(imploded_df.iterrows(), total=imploded_df.shape[0]):\n",
    "            for book in shelf['book_id']:\n",
    "                if book in book_counts:\n",
    "                    book_counts[book] += 1\n",
    "                else:\n",
    "                    book_counts[book] = 1\n",
    "\n",
    "        # Count appearances of pairs of books \n",
    "        edges = {}\n",
    "        for i, shelf in tqdm(imploded_df.iterrows(), total=imploded_df.shape[0]):\n",
    "            if len(shelf['book_id']) > 1:\n",
    "                # Generate pairs of books \n",
    "                for i in range(len(shelf['book_id'])):\n",
    "                    for j in range(i+1, len(shelf['book_id'])):\n",
    "                        # Create edge\n",
    "                        edge = frozenset([shelf['book_id'][i], shelf['book_id'][j]])\n",
    "                        # Add edge to dictionary\n",
    "                        if edge in edges:\n",
    "                            edges[edge] += 1\n",
    "                        else:\n",
    "                            edges[edge] = 1\n",
    "\n",
    "        # Weigh edges by the inverse of the root of the number of times each book appears \n",
    "        for edge in edges:\n",
    "            edges[edge] = edges[edge] / (book_counts[list(edge)[0]] * book_counts[list(edge)[1]])**0.5\n",
    "        \n",
    "        # Store the edges\n",
    "        np.save(DATA_PATH + 'shelf_edges.npy', edges)\n",
    "    \n",
    "    # Remove edges that are below the threshhold\n",
    "    edges = {k: v for k, v in edges.items() if v >= threshhold}\n",
    "\n",
    "    # Create the network \n",
    "    G = nx.Graph()\n",
    "    G.add_edges_from(edges.keys())\n",
    "\n",
    "    return G \n",
    "    "
   ]
  },
  {
   "cell_type": "code",
   "execution_count": null,
   "metadata": {},
   "outputs": [],
   "source": [
    "# Load/Generate the network \n",
    "try:\n",
    "    # Load the network\n",
    "    G = nx.read_gpickle(DATA_PATH + \"shelves_network.gpickle\")\n",
    "except: \n",
    "    # Make the network \n",
    "    G = create_network(2000)\n",
    "\n",
    "    # Save the network\n",
    "    nx.write_gpickle(G, DATA_PATH + \"shelves_network.gpickle\")\n"
   ]
  },
  {
   "attachments": {},
   "cell_type": "markdown",
   "metadata": {},
   "source": [
    "## Analysis "
   ]
  },
  {
   "cell_type": "code",
   "execution_count": 4,
   "metadata": {},
   "outputs": [],
   "source": [
    "# load data \n",
    "shelves_df = pd.read_csv(DATA_PATH + 'shelves_df.csv')"
   ]
  },
  {
   "cell_type": "code",
   "execution_count": 5,
   "metadata": {
    "collapsed": false
   },
   "outputs": [],
   "source": [
    "\n",
    "imploded_df = shelves_df.groupby('user_id')['book_id'].apply(list).reset_index()\n",
    "#imploded_df"
   ]
  },
  {
   "cell_type": "code",
   "execution_count": 4,
   "metadata": {},
   "outputs": [
    {
     "name": "stderr",
     "output_type": "stream",
     "text": [
      "100%|██████████| 818569/818569 [10:58:28<00:00, 20.72it/s]    \n"
     ]
    },
    {
     "data": {
      "text/plain": [
       "28704535"
      ]
     },
     "execution_count": 4,
     "metadata": {},
     "output_type": "execute_result"
    }
   ],
   "source": [
    "# Create dictionary edges and appearances \n",
    "edges = {}\n",
    "\n",
    "# Go through shelves to get edges\n",
    "for i, shelf in tqdm(imploded_df.iterrows(), total=imploded_df.shape[0]):\n",
    "    if len(shelf['book_id']) > 1:\n",
    "        # Generate pairs of books \n",
    "        for i in range(len(shelf['book_id'])):\n",
    "            for j in range(i+1, len(shelf['book_id'])):\n",
    "                # Create edge\n",
    "                edge = frozenset([shelf['book_id'][i], shelf['book_id'][j]])\n",
    "                # Add edge to dictionary\n",
    "                if edge in edges:\n",
    "                    edges[edge] += 1\n",
    "                else:\n",
    "                    edges[edge] = 1\n",
    "\n",
    "len(edges)\n"
   ]
  },
  {
   "cell_type": "code",
   "execution_count": 5,
   "metadata": {},
   "outputs": [],
   "source": [
    "# Save the edges\n",
    "np.save(DATA_PATH + 'shelf_edges.npy', edges)"
   ]
  },
  {
   "cell_type": "code",
   "execution_count": 40,
   "metadata": {},
   "outputs": [],
   "source": [
    "# Load the shelf edges\n",
    "edges = np.load(DATA_PATH + 'shelf_edges.npy', allow_pickle=True).item()"
   ]
  },
  {
   "cell_type": "code",
   "execution_count": 23,
   "metadata": {},
   "outputs": [
    {
     "data": {
      "image/png": "[encoded data removed]",
      "text/plain": [
       "<Figure size 432x288 with 1 Axes>"
      ]
     },
     "metadata": {
      "needs_background": "light"
     },
     "output_type": "display_data"
    }
   ],
   "source": [
    "# Plot a histogram of the number of times each edge appears\n",
    "plt.hist(edges.values(), log=True, bins=100)\n",
    "# plt.xscale('log')\n",
    "plt.xlabel('People who had booth books')\n",
    "plt.ylabel('Count')\n",
    "plt.title('Distribution of books appearing together')\n",
    "plt.show()"
   ]
  },
  {
   "cell_type": "code",
   "execution_count": 13,
   "metadata": {},
   "outputs": [
    {
     "data": {
      "text/plain": [
       "671121"
      ]
     },
     "execution_count": 13,
     "metadata": {},
     "output_type": "execute_result"
    }
   ],
   "source": [
    "sum(np.array(list(edges.values())) > 2000)"
   ]
  },
  {
   "cell_type": "code",
   "execution_count": 14,
   "metadata": {},
   "outputs": [],
   "source": [
    "# Remove all edges that appear less than threshhold times\n",
    "threshhold = 2000\n",
    "edges = {k: v for k, v in edges.items() if v >= threshhold}"
   ]
  },
  {
   "cell_type": "code",
   "execution_count": 17,
   "metadata": {},
   "outputs": [],
   "source": [
    "G = nx.Graph()\n",
    "G.add_edges_from(edges.keys())"
   ]
  },
  {
   "cell_type": "code",
   "execution_count": 19,
   "metadata": {},
   "outputs": [
    {
     "name": "stdout",
     "output_type": "stream",
     "text": [
      "671643 5240\n"
     ]
    }
   ],
   "source": [
    "print(G.number_of_edges(), G.number_of_nodes())"
   ]
  },
  {
   "cell_type": "code",
   "execution_count": 6,
   "metadata": {},
   "outputs": [
    {
     "name": "stderr",
     "output_type": "stream",
     "text": [
      "100%|██████████| 818569/818569 [00:43<00:00, 18861.56it/s]\n"
     ]
    }
   ],
   "source": [
    "# Count occurrences of each book\n",
    "book_counts = {}\n",
    "for i, shelf in tqdm(imploded_df.iterrows(), total=imploded_df.shape[0]):\n",
    "    for book in shelf['book_id']:\n",
    "        if book in book_counts:\n",
    "            book_counts[book] += 1\n",
    "        else:\n",
    "            book_counts[book] = 1"
   ]
  },
  {
   "cell_type": "code",
   "execution_count": 25,
   "metadata": {},
   "outputs": [
    {
     "data": {
      "text/plain": [
       "Text(0.5, 1.0, 'Distribution of books appearing together')"
      ]
     },
     "execution_count": 25,
     "metadata": {},
     "output_type": "execute_result"
    },
    {
     "data": {
      "image/png": "[encoded data removed]",
      "text/plain": [
       "<Figure size 432x288 with 1 Axes>"
      ]
     },
     "metadata": {
      "needs_background": "light"
     },
     "output_type": "display_data"
    }
   ],
   "source": [
    "# Plot a histogram of the number of times each book appears\n",
    "plt.hist(book_counts.values(), log=True, bins=100)\n",
    "# plt.xscale('log')\n",
    "plt.xlabel('People who had the book')\n",
    "plt.ylabel('Count')\n",
    "plt.title('Distribution of books appearing together')"
   ]
  },
  {
   "cell_type": "code",
   "execution_count": 28,
   "metadata": {},
   "outputs": [
    {
     "ename": "KeyboardInterrupt",
     "evalue": "",
     "output_type": "error",
     "traceback": [
      "\u001b[1;31m---------------------------------------------------------------------------\u001b[0m",
      "\u001b[1;31mKeyboardInterrupt\u001b[0m                         Traceback (most recent call last)",
      "\u001b[1;32m<ipython-input-28-09353b984f1f>\u001b[0m in \u001b[0;36m<module>\u001b[1;34m\u001b[0m\n\u001b[1;32m----> 1\u001b[1;33m \u001b[0medges\u001b[0m\u001b[1;33m.\u001b[0m\u001b[0mkeys\u001b[0m\u001b[1;33m(\u001b[0m\u001b[1;33m)\u001b[0m\u001b[1;33m\u001b[0m\u001b[1;33m\u001b[0m\u001b[0m\n\u001b[0m",
      "\u001b[1;32mc:\\Users\\david\\anaconda3\\lib\\site-packages\\IPython\\core\\displayhook.py\u001b[0m in \u001b[0;36m__call__\u001b[1;34m(self, result)\u001b[0m\n\u001b[0;32m    261\u001b[0m             \u001b[0mself\u001b[0m\u001b[1;33m.\u001b[0m\u001b[0mwrite_output_prompt\u001b[0m\u001b[1;33m(\u001b[0m\u001b[1;33m)\u001b[0m\u001b[1;33m\u001b[0m\u001b[1;33m\u001b[0m\u001b[0m\n\u001b[0;32m    262\u001b[0m             \u001b[0mformat_dict\u001b[0m\u001b[1;33m,\u001b[0m \u001b[0mmd_dict\u001b[0m \u001b[1;33m=\u001b[0m \u001b[0mself\u001b[0m\u001b[1;33m.\u001b[0m\u001b[0mcompute_format_data\u001b[0m\u001b[1;33m(\u001b[0m\u001b[0mresult\u001b[0m\u001b[1;33m)\u001b[0m\u001b[1;33m\u001b[0m\u001b[1;33m\u001b[0m\u001b[0m\n\u001b[1;32m--> 263\u001b[1;33m             \u001b[0mself\u001b[0m\u001b[1;33m.\u001b[0m\u001b[0mupdate_user_ns\u001b[0m\u001b[1;33m(\u001b[0m\u001b[0mresult\u001b[0m\u001b[1;33m)\u001b[0m\u001b[1;33m\u001b[0m\u001b[1;33m\u001b[0m\u001b[0m\n\u001b[0m\u001b[0;32m    264\u001b[0m             \u001b[0mself\u001b[0m\u001b[1;33m.\u001b[0m\u001b[0mfill_exec_result\u001b[0m\u001b[1;33m(\u001b[0m\u001b[0mresult\u001b[0m\u001b[1;33m)\u001b[0m\u001b[1;33m\u001b[0m\u001b[1;33m\u001b[0m\u001b[0m\n\u001b[0;32m    265\u001b[0m             \u001b[1;32mif\u001b[0m \u001b[0mformat_dict\u001b[0m\u001b[1;33m:\u001b[0m\u001b[1;33m\u001b[0m\u001b[1;33m\u001b[0m\u001b[0m\n",
      "\u001b[1;32mc:\\Users\\david\\anaconda3\\lib\\site-packages\\IPython\\core\\displayhook.py\u001b[0m in \u001b[0;36mupdate_user_ns\u001b[1;34m(self, result)\u001b[0m\n\u001b[0;32m    227\u001b[0m             \u001b[1;32mif\u001b[0m \u001b[0mself\u001b[0m\u001b[1;33m.\u001b[0m\u001b[0mdo_full_cache\u001b[0m\u001b[1;33m:\u001b[0m\u001b[1;33m\u001b[0m\u001b[1;33m\u001b[0m\u001b[0m\n\u001b[0;32m    228\u001b[0m                 \u001b[0mnew_result\u001b[0m \u001b[1;33m=\u001b[0m \u001b[1;34m'_%s'\u001b[0m \u001b[1;33m%\u001b[0m \u001b[0mself\u001b[0m\u001b[1;33m.\u001b[0m\u001b[0mprompt_count\u001b[0m\u001b[1;33m\u001b[0m\u001b[1;33m\u001b[0m\u001b[0m\n\u001b[1;32m--> 229\u001b[1;33m                 \u001b[0mto_main\u001b[0m\u001b[1;33m[\u001b[0m\u001b[0mnew_result\u001b[0m\u001b[1;33m]\u001b[0m \u001b[1;33m=\u001b[0m \u001b[0mresult\u001b[0m\u001b[1;33m\u001b[0m\u001b[1;33m\u001b[0m\u001b[0m\n\u001b[0m\u001b[0;32m    230\u001b[0m                 \u001b[0mself\u001b[0m\u001b[1;33m.\u001b[0m\u001b[0mshell\u001b[0m\u001b[1;33m.\u001b[0m\u001b[0mpush\u001b[0m\u001b[1;33m(\u001b[0m\u001b[0mto_main\u001b[0m\u001b[1;33m,\u001b[0m \u001b[0minteractive\u001b[0m\u001b[1;33m=\u001b[0m\u001b[1;32mFalse\u001b[0m\u001b[1;33m)\u001b[0m\u001b[1;33m\u001b[0m\u001b[1;33m\u001b[0m\u001b[0m\n\u001b[0;32m    231\u001b[0m                 \u001b[0mself\u001b[0m\u001b[1;33m.\u001b[0m\u001b[0mshell\u001b[0m\u001b[1;33m.\u001b[0m\u001b[0muser_ns\u001b[0m\u001b[1;33m[\u001b[0m\u001b[1;34m'_oh'\u001b[0m\u001b[1;33m]\u001b[0m\u001b[1;33m[\u001b[0m\u001b[0mself\u001b[0m\u001b[1;33m.\u001b[0m\u001b[0mprompt_count\u001b[0m\u001b[1;33m]\u001b[0m \u001b[1;33m=\u001b[0m \u001b[0mresult\u001b[0m\u001b[1;33m\u001b[0m\u001b[1;33m\u001b[0m\u001b[0m\n",
      "\u001b[1;31mKeyboardInterrupt\u001b[0m: "
     ]
    }
   ],
   "source": [
    "edges.keys()"
   ]
  },
  {
   "cell_type": "code",
   "execution_count": 31,
   "metadata": {},
   "outputs": [
    {
     "name": "stderr",
     "output_type": "stream",
     "text": [
      "100%|██████████| 28704535/28704535 [00:34<00:00, 823585.16it/s]\n"
     ]
    }
   ],
   "source": [
    "for edge in tqdm(edges):\n",
    "    edges[edge] = edges[edge] / (book_counts[list(edge)[0]] * book_counts[list(edge)[1]])**0.5\n",
    "\n"
   ]
  },
  {
   "cell_type": "code",
   "execution_count": 32,
   "metadata": {},
   "outputs": [
    {
     "data": {
      "text/plain": [
       "<matplotlib.collections.PathCollection at 0x1d002804f40>"
      ]
     },
     "execution_count": 32,
     "metadata": {},
     "output_type": "execute_result"
    },
    {
     "data": {
      "image/png": "[encoded data removed]",
      "text/plain": [
       "<Figure size 432x288 with 1 Axes>"
      ]
     },
     "metadata": {
      "needs_background": "light"
     },
     "output_type": "display_data"
    }
   ],
   "source": [
    "\n",
    "# Plot the edge versus the square root of the number of times each book appears\n",
    "plt.scatter(edges.values(), [book_counts[list(edge)[0]]**0.5 * book_counts[list(edge)[1]]**0.5 for edge in edges.keys()])"
   ]
  },
  {
   "cell_type": "code",
   "execution_count": 33,
   "metadata": {},
   "outputs": [
    {
     "data": {
      "image/png": "[encoded data removed]",
      "text/plain": [
       "<Figure size 432x288 with 1 Axes>"
      ]
     },
     "metadata": {
      "needs_background": "light"
     },
     "output_type": "display_data"
    }
   ],
   "source": [
    "# Plot a histogram of the number of times each edge appears\n",
    "plt.hist(edges.values(), log=True, bins=100)\n",
    "# plt.xscale('log')\n",
    "plt.xlabel('People who had booth books')\n",
    "plt.ylabel('Count')\n",
    "plt.title('Distribution of books appearing together')\n",
    "plt.show()"
   ]
  },
  {
   "cell_type": "code",
   "execution_count": 37,
   "metadata": {},
   "outputs": [],
   "source": [
    "# Remove all edges that appear less than threshhold times\n",
    "threshhold = 0.2\n",
    "edges = {k: v for k, v in edges.items() if v >= threshhold}"
   ]
  },
  {
   "cell_type": "code",
   "execution_count": 38,
   "metadata": {},
   "outputs": [],
   "source": [
    "G = nx.Graph()\n",
    "G.add_edges_from(edges.keys())"
   ]
  },
  {
   "cell_type": "code",
   "execution_count": 39,
   "metadata": {},
   "outputs": [
    {
     "name": "stdout",
     "output_type": "stream",
     "text": [
      "42231 5083\n"
     ]
    }
   ],
   "source": [
    "print(G.number_of_edges(), G.number_of_nodes())"
   ]
  },
  {
   "attachments": {},
   "cell_type": "markdown",
   "metadata": {},
   "source": [
    "### Decision"
   ]
  },
  {
   "cell_type": "code",
   "execution_count": 2,
   "metadata": {},
   "outputs": [],
   "source": [
    "# Load the shelf edges\n",
    "edges = np.load(DATA_PATH + 'shelf_edges.npy', allow_pickle=True).item()"
   ]
  },
  {
   "cell_type": "code",
   "execution_count": 7,
   "metadata": {},
   "outputs": [
    {
     "name": "stderr",
     "output_type": "stream",
     "text": [
      "100%|██████████| 28704535/28704535 [00:47<00:00, 601089.69it/s]\n"
     ]
    }
   ],
   "source": [
    "# Normalize (kinda)\n",
    "for edge in tqdm(edges):\n",
    "    edges[edge] = edges[edge] / min(book_counts[list(edge)[0]], book_counts[list(edge)[1]])"
   ]
  },
  {
   "cell_type": "code",
   "execution_count": 8,
   "metadata": {},
   "outputs": [
    {
     "data": {
      "image/png": "[encoded data removed]",
      "text/plain": [
       "<Figure size 432x288 with 1 Axes>"
      ]
     },
     "metadata": {
      "needs_background": "light"
     },
     "output_type": "display_data"
    }
   ],
   "source": [
    "# Plot a histogram of the number of times each edge appears\n",
    "plt.hist(edges.values(), log=True, bins=100)\n",
    "# plt.xscale('log')\n",
    "plt.xlabel('People who had booth books')\n",
    "plt.ylabel('Count')\n",
    "plt.title('Distribution of books appearing together')\n",
    "plt.show()"
   ]
  },
  {
   "cell_type": "code",
   "execution_count": 13,
   "metadata": {},
   "outputs": [],
   "source": [
    "# Remove all edges that appear less than threshhold times\n",
    "threshhold = 0.3\n",
    "edges2 = {k: v for k, v in edges.items() if v >= threshhold}"
   ]
  },
  {
   "cell_type": "code",
   "execution_count": 14,
   "metadata": {},
   "outputs": [],
   "source": [
    "G = nx.Graph()\n",
    "G.add_edges_from(edges2.keys())"
   ]
  },
  {
   "cell_type": "code",
   "execution_count": 15,
   "metadata": {},
   "outputs": [
    {
     "name": "stdout",
     "output_type": "stream",
     "text": [
      "591722 7674 77.10737555381809\n"
     ]
    }
   ],
   "source": [
    "print(G.number_of_edges(), G.number_of_nodes(), G.number_of_edges() / G.number_of_nodes())"
   ]
  }
 ],
 "metadata": {
  "kernelspec": {
   "display_name": "Python 3.8.8 ('base': conda)",
   "language": "python",
   "name": "python3"
  },
  "language_info": {
   "codemirror_mode": {
    "name": "ipython",
    "version": 3
   },
   "file_extension": ".py",
   "mimetype": "text/x-python",
   "name": "python",
   "nbconvert_exporter": "python",
   "pygments_lexer": "ipython3",
   "version": "3.8.8"
  },
  "vscode": {
   "interpreter": {
    "hash": "ea8238db6dc1fe8cf6fe83219457bde9bcbcde2053d40c59d2e78211d10c5fee"
   }
  }
 },
 "nbformat": 4,
 "nbformat_minor": 0
}
