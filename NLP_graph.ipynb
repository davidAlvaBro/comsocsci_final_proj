{
 "cells": [
  {
   "cell_type": "code",
   "execution_count": 1,
   "metadata": {},
   "outputs": [],
   "source": [
    "import networkx as nx\n",
    "from tqdm import tqdm\n",
    "import random\n",
    "import matplotlib.pyplot as plt\n",
    "import matplotlib.colors as mcolors\n",
    "import numpy as np\n",
    "import pandas as pd\n",
    "\n",
    "DATA_PATH = \"data/\""
   ]
  },
  {
   "cell_type": "code",
   "execution_count": 2,
   "metadata": {},
   "outputs": [],
   "source": [
    "# Load the TF_IDF values for each book \n",
    "tf_idf_book = pd.read_csv(DATA_PATH + \"TF_IDF_book_df.csv\", index_col=0)\n",
    "book_df = pd.read_csv(DATA_PATH + \"complete_book_df.csv\", index_col=0)"
   ]
  },
  {
   "cell_type": "code",
   "execution_count": 3,
   "metadata": {},
   "outputs": [],
   "source": [
    "# Inner product function \n",
    "def inner_product(v1, v2):\n",
    "    \"\"\"Calculates the normed inner product of two vectors\n",
    "\n",
    "    Args:\n",
    "        v1 (list): list of numbers\n",
    "        v2 (list): list of numbers\n",
    "\n",
    "    Returns:\n",
    "        inner_product (float): inner product of the two vectors (divided by the product of their norms)\n",
    "    \"\"\"\n",
    "    \n",
    "    return np.dot(v1, v2) / (np.linalg.norm(v1) * np.linalg.norm(v2))"
   ]
  },
  {
   "cell_type": "code",
   "execution_count": 5,
   "metadata": {},
   "outputs": [
    {
     "name": "stderr",
     "output_type": "stream",
     "text": [
      "100%|██████████| 7676/7676 [3:01:11<00:00,  1.42s/it]  \n"
     ]
    }
   ],
   "source": [
    "# Create the inner product between every book\n",
    "similarities = {}\n",
<<<<<<< Updated upstream
    "for i in tqdm(range(len(book_df))):\n",
=======
    "for i in tqdm(range(len(book_df)), total = len(book_df)):\n",
>>>>>>> Stashed changes
    "    for j in range(i+1, len(book_df)):\n",
    "        # print(inner_product(tf_idf_book[str(book_df.iloc[i][\"book_id\"])], tf_idf_book[str(book_df.iloc[j][\"book_id\"])]))\n",
    "        similarities[(book_df.iloc[i][\"book_id\"], book_df.iloc[j][\"book_id\"])] = inner_product(tf_idf_book[str(book_df.iloc[i][\"book_id\"])], tf_idf_book[str(book_df.iloc[j][\"book_id\"])])\n"
   ]
  },
  {
   "cell_type": "code",
   "execution_count": 6,
   "metadata": {},
   "outputs": [],
   "source": [
    "# Save the edges\n",
    "np.save(DATA_PATH + 'NLP_edges.npy', similarities)"
   ]
  },
  {
   "cell_type": "code",
   "execution_count": 9,
   "metadata": {},
   "outputs": [
    {
     "data": {
      "image/png": "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",
      "text/plain": [
       "<Figure size 432x288 with 1 Axes>"
      ]
     },
     "metadata": {
      "needs_background": "light"
     },
     "output_type": "display_data"
    }
   ],
   "source": [
    "plt.hist(similarities.values(), log=True)\n",
    "# plt.xscale('log')\n",
    "# plt.yscale('log')\n",
    "plt.xlabel('People who had booth books')\n",
    "plt.ylabel('Count')\n",
    "plt.title('Distribution of books appearing together')\n",
    "plt.show()"
   ]
  }
 ],
 "metadata": {
  "kernelspec": {
   "display_name": "base",
   "language": "python",
   "name": "python3"
  },
  "language_info": {
   "codemirror_mode": {
    "name": "ipython",
    "version": 3
   },
   "file_extension": ".py",
   "mimetype": "text/x-python",
   "name": "python",
   "nbconvert_exporter": "python",
   "pygments_lexer": "ipython3",
   "version": "3.8.8"
  },
  "orig_nbformat": 4
 },
 "nbformat": 4,
 "nbformat_minor": 2
}
