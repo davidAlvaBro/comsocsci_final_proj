{
 "cells": [
  {
   "cell_type": "code",
   "execution_count": 1,
   "metadata": {
    "collapsed": true
   },
   "outputs": [],
   "source": [
    "import pandas as pd\n",
    "import numpy as np\n",
    "from tqdm import tqdm\n",
    "import networkx as nx\n",
    "import random\n",
    "import copy\n",
    "import matplotlib.pyplot as plt\n",
    "\n",
    "DATA_PATH = 'data/'"
   ]
  },
  {
   "cell_type": "code",
   "execution_count": 2,
   "outputs": [],
   "source": [
    "# Load graph\n",
    "shelf_graph = nx.Graph()\n",
    "shelf_giant = nx.Graph()\n",
    "NLP_graph = nx.Graph()\n",
    "NLP_giant = nx.Graph()"
   ],
   "metadata": {
    "collapsed": false
   }
  },
  {
   "cell_type": "code",
   "execution_count": null,
   "outputs": [],
   "source": [
    "# Function to calculate the fraction of neighbors that have the same attribute value\n",
    "def get_matching_att(graph, att):\n",
    "    \"\"\"\n",
    "    A function that calculates the fraction of neighbors that have the same attribute value\n",
    "\n",
    "    Args:\n",
    "        graph (nx.Graph): The graph to be analyzed\n",
    "        att (str): The attribute to be analyzed\n",
    "\n",
    "    Returns:\n",
    "        match_frac (dict): A dictionary with the fraction of neighbors that have the same attribute value\n",
    "    \"\"\"\n",
    "    match_frac = {}\n",
    "    for node in graph.nodes:\n",
    "        counter = 0\n",
    "        neighbors = len(list(graph.neighbors(node)))\n",
    "\n",
    "        if neighbors == 0: match_frac[node] = 0 # Have to check this, otherwise devising by zero\n",
    "\n",
    "        else:\n",
    "            for neighbor in graph.neighbors(node):\n",
    "                # Check if the attribute value is the same for the node and the neighbor\n",
    "                if nx.get_node_attributes(graph, att)[neighbor] == nx.get_node_attributes(graph, att)[node]:\n",
    "                    counter += 1\n",
    "\n",
    "            match_frac[node] = counter / neighbors\n",
    "\n",
    "    return match_frac"
   ],
   "metadata": {
    "collapsed": false
   }
  },
  {
   "cell_type": "code",
   "execution_count": null,
   "outputs": [],
   "source": [
    "# Get the average fraction of neighbors that have the same attribute value\n",
    "top_field_fracs_shelves = get_matching_att(shelf_giant, 'top_genre')\n",
    "top_field_fracs_NLP = get_matching_att(NLP_giant, 'top_genre')\n",
    "\n",
    "print(f\"(shelves) Average across all nodes {np.mean(list(top_field_fracs_shelves.values()))}\")\n",
    "print(f\"(NLP) Average across all nodes {np.mean(list(top_field_fracs_NLP.values()))}\")"
   ],
   "metadata": {
    "collapsed": false
   }
  },
  {
   "cell_type": "markdown",
   "source": [
    "### Create a new graph, with the same nodes and edges, but where the association between nodes and field is shuffled. Compute the measure above for this randomized graph."
   ],
   "metadata": {
    "collapsed": false
   }
  },
  {
   "cell_type": "code",
   "execution_count": null,
   "outputs": [],
   "source": [
    "# Function that shuffles the attribute values of a graph\n",
    "def shuffle_node_att(graph, att):\n",
    "    \"\"\"\n",
    "    A function that shuffles the attribute values of a graph\n",
    "\n",
    "    Args:\n",
    "        graph (nx.Graph): The graph to be analyzed\n",
    "        att (str): The attribute to be analyzed\n",
    "\n",
    "    Returns:\n",
    "        graph (nx.Graph): The graph with shuffled attributes\n",
    "    \"\"\"\n",
    "    # Make dictionary with shuffled attributes\n",
    "    shuffled_atts = nx.get_node_attributes(graph, att)\n",
    "    temp = list(shuffled_atts.values())\n",
    "    random.shuffle(temp)\n",
    "    new_atts = dict(zip(shuffled_atts, temp))\n",
    "\n",
    "    # Set the shuffled attributes\n",
    "    nx.set_node_attributes(graph, new_atts, att)\n",
    "\n",
    "    return graph"
   ],
   "metadata": {
    "collapsed": false
   }
  },
  {
   "cell_type": "code",
   "execution_count": null,
   "outputs": [],
   "source": [
    "# Make a copy of the graph and shuffle the attribute values\n",
    "shelf_giant_copy = copy.deepcopy(shelf_giant)\n",
    "shelf_giant_shuffled = shuffle_node_att(shelf_giant_copy, 'top_genre')\n",
    "\n",
    "NLP_giant_copy = copy.deepcopy(NLP_giant)\n",
    "NLP_giant_shuffled = shuffle_node_att(NLP_giant_copy, 'top_genre')\n",
    "\n",
    "print(f\"(Shelves) When the fields are randomly assigned, on average an genre has {np.mean(list(get_matching_att(shelf_giant_copy, 'top_genre').values()))} of their neighbors in the same genre\")\n",
    "print(f\"(NLP) When the fields are randomly assigned, on average an genre has {np.mean(list(get_matching_att(NLP_giant_shuffled, 'top_genre').values()))} of their neighbors in the same genre\")"
   ],
   "metadata": {
    "collapsed": false
   }
  },
  {
   "cell_type": "markdown",
   "source": [
    "### Simulate 100 points for the random distributions and compare to the real graphs"
   ],
   "metadata": {
    "collapsed": false
   }
  },
  {
   "cell_type": "code",
   "execution_count": null,
   "outputs": [],
   "source": [
    "try:\n",
    "    distribution = np.load(DATA_PATH + \"avg_same_field_distribution.npy\")\n",
    "except:\n",
    "    # Shuffles the graph attributes N times and stores the distribution of the average fraction of neighbors that have the same attribute value\n",
    "    N = 100\n",
    "    distribution_shelves = np.zeros(N)\n",
    "    distribution_NLP = np.zeros(N)\n",
    "    for i in tqdm(range(N)):\n",
    "        shelf_giant_copy = shuffle_node_att(shelf_giant_copy, 'top_genre')\n",
    "        avg = np.mean(list(get_matching_att(shelf_giant_copy, 'top_genre').values()))\n",
    "        distribution_shelves[i] = avg\n",
    "\n",
    "        NLP_giant_copy = shuffle_node_att(NLP_giant_copy, 'top_genre')\n",
    "        avg = np.mean(list(get_matching_att(NLP_giant_copy, 'top_genre').values()))\n",
    "        distribution_NLP[i] = avg\n",
    "\n",
    "    np.save(DATA_PATH + \"avg_same_field_distribution_shelves.npy\", distribution_shelves)\n",
    "    np.save(DATA_PATH + \"avg_same_field_distribution_NLP.npy\", distribution_NLP)"
   ],
   "metadata": {
    "collapsed": false
   }
  },
  {
   "cell_type": "markdown",
   "source": [
    "### Compare values on plot"
   ],
   "metadata": {
    "collapsed": false
   }
  },
  {
   "cell_type": "code",
   "execution_count": 3,
   "outputs": [
    {
     "ename": "FileNotFoundError",
     "evalue": "[Errno 2] No such file or directory: 'data/avg_same_field_distribution.npy'",
     "output_type": "error",
     "traceback": [
      "\u001B[1;31m---------------------------------------------------------------------------\u001B[0m",
      "\u001B[1;31mFileNotFoundError\u001B[0m                         Traceback (most recent call last)",
      "Cell \u001B[1;32mIn[3], line 3\u001B[0m\n\u001B[0;32m      1\u001B[0m \u001B[38;5;66;03m# Load the distribution if not in memory \u001B[39;00m\n\u001B[0;32m      2\u001B[0m \u001B[38;5;28;01mif\u001B[39;00m \u001B[38;5;124m'\u001B[39m\u001B[38;5;124mdistribution\u001B[39m\u001B[38;5;124m'\u001B[39m \u001B[38;5;129;01mnot\u001B[39;00m \u001B[38;5;129;01min\u001B[39;00m \u001B[38;5;28mlocals\u001B[39m():\n\u001B[1;32m----> 3\u001B[0m     distribution \u001B[38;5;241m=\u001B[39m \u001B[43mnp\u001B[49m\u001B[38;5;241;43m.\u001B[39;49m\u001B[43mload\u001B[49m\u001B[43m(\u001B[49m\u001B[43mDATA_PATH\u001B[49m\u001B[43m \u001B[49m\u001B[38;5;241;43m+\u001B[39;49m\u001B[43m \u001B[49m\u001B[38;5;124;43m\"\u001B[39;49m\u001B[38;5;124;43mavg_same_field_distribution.npy\u001B[39;49m\u001B[38;5;124;43m\"\u001B[39;49m\u001B[43m)\u001B[49m\n",
      "File \u001B[1;32m~\\AppData\\Local\\Programs\\Python\\Python311\\Lib\\site-packages\\numpy\\lib\\npyio.py:405\u001B[0m, in \u001B[0;36mload\u001B[1;34m(file, mmap_mode, allow_pickle, fix_imports, encoding, max_header_size)\u001B[0m\n\u001B[0;32m    403\u001B[0m     own_fid \u001B[38;5;241m=\u001B[39m \u001B[38;5;28;01mFalse\u001B[39;00m\n\u001B[0;32m    404\u001B[0m \u001B[38;5;28;01melse\u001B[39;00m:\n\u001B[1;32m--> 405\u001B[0m     fid \u001B[38;5;241m=\u001B[39m stack\u001B[38;5;241m.\u001B[39menter_context(\u001B[38;5;28;43mopen\u001B[39;49m\u001B[43m(\u001B[49m\u001B[43mos_fspath\u001B[49m\u001B[43m(\u001B[49m\u001B[43mfile\u001B[49m\u001B[43m)\u001B[49m\u001B[43m,\u001B[49m\u001B[43m \u001B[49m\u001B[38;5;124;43m\"\u001B[39;49m\u001B[38;5;124;43mrb\u001B[39;49m\u001B[38;5;124;43m\"\u001B[39;49m\u001B[43m)\u001B[49m)\n\u001B[0;32m    406\u001B[0m     own_fid \u001B[38;5;241m=\u001B[39m \u001B[38;5;28;01mTrue\u001B[39;00m\n\u001B[0;32m    408\u001B[0m \u001B[38;5;66;03m# Code to distinguish from NumPy binary files and pickles.\u001B[39;00m\n",
      "\u001B[1;31mFileNotFoundError\u001B[0m: [Errno 2] No such file or directory: 'data/avg_same_field_distribution.npy'"
     ]
    }
   ],
   "source": [
    "# Load the distribution if not in memory\n",
    "if 'distribution_shelves' not in locals() or 'distribution_NLP' not in locals() :\n",
    "    distribution_shelves = np.load(DATA_PATH + \"avg_same_field_distribution_shelves.npy\")\n",
    "    distribution_NLP = np.load(DATA_PATH + \"avg_same_field_distribution_NLP.npy\")"
   ],
   "metadata": {
    "collapsed": false
   }
  },
  {
   "cell_type": "code",
   "execution_count": 4,
   "outputs": [],
   "source": [
    "def plot_avg_frac_neighbors(distribution, top_field_fracs):\n",
    "    # Setup for plot\n",
    "    bins = 10\n",
    "    avg_value = np.mean(list(top_field_fracs.values()))\n",
    "\n",
    "    # Plot the distribution\n",
    "    figure, ax = plt.subplots(1)\n",
    "\n",
    "    ax.hist(distribution, density=True, bins=bins)\n",
    "    ax.axvline(x=avg_value, color='r', label=f\"Observed value: {avg_value:.2f}\")\n",
    "    ax.axvline(x=np.max(distribution), color='b', label=f\"Maximum random value: {np.max(distribution):.2f}\")\n",
    "    ax.legend()\n",
    "    ax.title.set_text(\"Distribution of the average fraction of neighbors that have the same attribute value\")\n",
    "    plt.xlabel(\"Fraction of neighbours with the same attribute value\")\n",
    "    plt.ylabel(\"Quantity\")\n",
    "\n",
    "    plt.show()"
   ],
   "metadata": {
    "collapsed": false
   }
  },
  {
   "cell_type": "code",
   "execution_count": null,
   "outputs": [],
   "source": [
    "# Shelf plot\n",
    "plot_avg_frac_neighbors(distribution_shelves, top_field_fracs_shelves)"
   ],
   "metadata": {
    "collapsed": false
   }
  },
  {
   "cell_type": "code",
   "execution_count": null,
   "outputs": [],
   "source": [
    "# NLP plot\n",
    "plot_avg_frac_neighbors(distribution_NLP, top_field_fracs_NLP)"
   ],
   "metadata": {
    "collapsed": false
   }
  },
  {
   "cell_type": "markdown",
   "source": [
    "# Assortativity"
   ],
   "metadata": {
    "collapsed": false
   }
  },
  {
   "cell_type": "code",
   "execution_count": null,
   "outputs": [],
   "source": [
    "print(f\"(shelf) The association for top genres is {nx.attribute_assortativity_coefficient(shelf_giant, 'top_genres'):.2f}, calculated with the mx library\")\n",
    "print(f\"(NLP) The association for top genres is {nx.attribute_assortativity_coefficient(NLP_giant, 'top_genres'):.2f}, calculated with the mx library\")"
   ],
   "metadata": {
    "collapsed": false
   }
  },
  {
   "cell_type": "code",
   "execution_count": 5,
   "outputs": [
    {
     "ename": "NameError",
     "evalue": "name 'shelf_giant' is not defined",
     "output_type": "error",
     "traceback": [
      "\u001B[1;31m---------------------------------------------------------------------------\u001B[0m",
      "\u001B[1;31mNameError\u001B[0m                                 Traceback (most recent call last)",
      "Cell \u001B[1;32mIn[5], line 13\u001B[0m\n\u001B[0;32m     10\u001B[0m E \u001B[38;5;241m=\u001B[39m np\u001B[38;5;241m.\u001B[39mzeros((\u001B[38;5;241m2\u001B[39m, \u001B[38;5;241m2\u001B[39m))\n\u001B[0;32m     12\u001B[0m \u001B[38;5;66;03m# Fill the matrix\u001B[39;00m\n\u001B[1;32m---> 13\u001B[0m \u001B[38;5;28;01mfor\u001B[39;00m edge \u001B[38;5;129;01min\u001B[39;00m \u001B[43mshelf_giant\u001B[49m\u001B[38;5;241m.\u001B[39medges:\n\u001B[0;32m     14\u001B[0m     \u001B[38;5;66;03m# Get the degree of the node at the ends of the edge\u001B[39;00m\n\u001B[0;32m     15\u001B[0m     i \u001B[38;5;241m=\u001B[39m get_i(shelf_giant\u001B[38;5;241m.\u001B[39mdegree(edge[\u001B[38;5;241m0\u001B[39m]), threshold)\n\u001B[0;32m     16\u001B[0m     j \u001B[38;5;241m=\u001B[39m get_i(shelf_giant\u001B[38;5;241m.\u001B[39mdegree(edge[\u001B[38;5;241m1\u001B[39m]), threshold)\n",
      "\u001B[1;31mNameError\u001B[0m: name 'shelf_giant' is not defined"
     ]
    }
   ],
   "source": [
    "# Very similar to the function above, but this calculates the matrix for the degree instead of attribute\n",
    "get_i = lambda x, threshold: 1 if x > threshold else 0 # Small function to get the index of the matrix\n",
    "calculate_assortiative_coef = lambda E: (np.trace(E) - np.sum(E @ E.T)) / (1 - np.sum(E @ E.T))\n",
    "\n",
    "max_threshold = 10\n",
    "assosiations = np.zeros(max_threshold - 2)\n",
    "\n",
    "for threshold in range(2, max_threshold):\n",
    "    # Get dimensions of matrix\n",
    "    E = np.zeros((2, 2))\n",
    "\n",
    "    # Fill the matrix\n",
    "    for edge in shelf_giant.edges:\n",
    "        # Get the degree of the node at the ends of the edge\n",
    "        i = get_i(shelf_giant.degree(edge[0]), threshold)\n",
    "        j = get_i(shelf_giant.degree(edge[1]), threshold)\n",
    "        E[i, j] += 1\n",
    "        E[j, i] += 1\n",
    "\n",
    "    E = E / (2*shelf_giant.number_of_edges())\n",
    "\n",
    "    # Store the assosiation\n",
    "    assosiations[threshold - 2] = calculate_assortiative_coef(E)\n",
    "\n",
    "plt.plot(range(2, max_threshold), assosiations, \"-o\")\n",
    "plt.xlabel(\"Threshold\")\n",
    "plt.ylabel(\"Association\")\n",
    "plt.title(\"Association for different thresholds (shelf)\")\n",
    "plt.show()"
   ],
   "metadata": {
    "collapsed": false
   }
  },
  {
   "cell_type": "code",
   "execution_count": null,
   "outputs": [],
   "source": [],
   "metadata": {
    "collapsed": false
   }
  }
 ],
 "metadata": {
  "kernelspec": {
   "display_name": "Python 3",
   "language": "python",
   "name": "python3"
  },
  "language_info": {
   "codemirror_mode": {
    "name": "ipython",
    "version": 2
   },
   "file_extension": ".py",
   "mimetype": "text/x-python",
   "name": "python",
   "nbconvert_exporter": "python",
   "pygments_lexer": "ipython2",
   "version": "2.7.6"
  }
 },
 "nbformat": 4,
 "nbformat_minor": 0
}
