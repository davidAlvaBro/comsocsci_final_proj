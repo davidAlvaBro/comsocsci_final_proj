{
 "cells": [
  {
   "attachments": {},
   "cell_type": "markdown",
   "metadata": {},
   "source": [
    "# Plan \n",
    "- Inner product function (norm both vectors) (David)\n",
    "- Get genres (for loop for each book, inner product with each genre and chose max. This is in new column in DF) (David)\n",
    "- Edges for NLP graph (David)\n",
    "    - Expensive (Body runs)\n",
    "- Choose threshold for shelf graph (Together)\n",
    "- Choose threshold for genres graph (such that there are the same amount of edges) (David - can only be done after we have a genres graph)\n",
    "\n",
    "- Louvain on both graphs  (DONE) (Sebastian)\n",
    "- Confusion matrices (maybe not all communities) for the two graphs and for genre. (Sebastian)\n",
    "- Modularity (NetworkX) (Sebastian)\n",
    "- Associativity (NetworkX) (Body)\n",
    "- Connectivity (NetworkX) (Body)\n",
    "\n",
    "- Word clouds (Sum TF vectors for all books in community, then make IDF with IDF dict) (Body)\n",
    "    - Comment on these clouds\n",
    "\n",
    "- Webpage (Meet and make together during the week)\n",
    "- Talk about who the data is comming from in the web page\n",
    "\n"
   ]
  }
 ],
 "metadata": {
  "language_info": {
   "name": "python"
  },
  "orig_nbformat": 4
 },
 "nbformat": 4,
 "nbformat_minor": 2
}
