{
 "cells": [
  {
   "cell_type": "code",
   "execution_count": null,
   "metadata": {},
   "outputs": [],
   "source": [
    "import networkx as nx\n",
    "from tqdm import tqdm\n",
    "import random\n",
    "import matplotlib.pyplot as plt\n",
    "import matplotlib.colors as mcolors\n",
    "import numpy as np\n",
    "import pandas as pd\n",
    "import netwulf\n",
    "import copy\n",
    "import community\n",
    "import seaborn as sns\n",
    "\n",
    "DATA_PATH = 'data/'"
   ]
  },
  {
   "cell_type": "code",
   "execution_count": null,
   "metadata": {},
   "outputs": [],
   "source": [
    "descriptions_df = pd.read_csv(DATA_PATH + \"books_descriptions.csv\")\n",
    "df = pd.read_json(DATA_PATH + 'goodreads_book_works.json', lines=True)"
   ]
  },
  {
   "cell_type": "code",
   "execution_count": null,
   "metadata": {},
   "outputs": [],
   "source": [
    "test = [descriptions_df[\"title\"][i] for i in range(10)]\n",
    "test2 = [i[:10] for i in test]\n",
    "\n",
    "print(test[0], type(test[0]))\n",
    "\n",
    "titles = df[\"original_title\"].tolist()\n",
    "titles2 = [i[:10] for i in titles]\n",
    "\n",
    "for i, title in enumerate(test2): \n",
    "    if title in titles2:\n",
    "        print(test[i])\n",
    "    else:\n",
    "        print(\"no\")"
   ]
  }
 ],
 "metadata": {
  "language_info": {
   "name": "python"
  },
  "orig_nbformat": 4
 },
 "nbformat": 4,
 "nbformat_minor": 2
}
